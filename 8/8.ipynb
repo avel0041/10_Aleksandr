{
 "cells": [
  {
   "cell_type": "markdown",
   "metadata": {},
   "source": [
    "Все 4-⁠буквенные слова, составленные из букв В, Л, Т, У, записаны в алфавитном порядке и пронумерованы.\n",
    "\n",
    "Вот начало списка:\n",
    "\n",
    "1.  ВВВВ\n",
    "\n",
    "2.  ВВВЛ\n",
    "\n",
    "3.  ВВВТ\n",
    "\n",
    "4.  ВВВУ\n",
    "\n",
    "...\n",
    "\n",
    " \n",
    "\n",
    "Запишите слово, которое стоит под номером 75."
   ]
  },
  {
   "cell_type": "code",
   "execution_count": 8,
   "metadata": {},
   "outputs": [
    {
     "name": "stdout",
     "output_type": "stream",
     "text": [
      "('Л', 'В', 'Т', 'Т')\n"
     ]
    }
   ],
   "source": [
    "from itertools import *\n",
    "\n",
    "a = list(product('ВЛТУ', repeat=4))\n",
    "\n",
    "print(a[74])"
   ]
  },
  {
   "cell_type": "markdown",
   "metadata": {},
   "source": [
    "Шифр кодового замка представляет собой последовательность из пяти символов, каждый из которых является цифрой от 1 до 4. Сколько различных вариантов шифра можно задать, если известно, что цифра 1 встречается ровно два раза, а каждая из других допустимых цифр может встречаться в шифре любое количество раз или не встречаться совсем?"
   ]
  },
  {
   "cell_type": "code",
   "execution_count": 9,
   "metadata": {},
   "outputs": [
    {
     "name": "stdout",
     "output_type": "stream",
     "text": [
      "270\n"
     ]
    }
   ],
   "source": [
    "from itertools import *\n",
    "k=0\n",
    "a = list(product('1234', repeat=5))\n",
    "for n in a:\n",
    "    if n.count(\"1\")==2:\n",
    "        k+=1\n",
    "print(k)"
   ]
  },
  {
   "cell_type": "markdown",
   "metadata": {},
   "source": [
    "Михаил составляет 5-⁠буквенные коды. В кодах разрешается использовать только буквы А, Б, В, Г, Д, при этом код не может начинаться с гласной и не может содержать двух одинаковых букв подряд. Сколько различных кодов может составить Михаил?"
   ]
  },
  {
   "cell_type": "code",
   "execution_count": null,
   "metadata": {},
   "outputs": [
    {
     "name": "stdout",
     "output_type": "stream",
     "text": [
      "2000\n"
     ]
    }
   ],
   "source": [
    "from itertools import *\n",
    "k=0\n",
    "a = list(product('абвгд', repeat=5))\n",
    "for n in a:\n",
    "    if n[0]!=\"а\" and n[0]!=n[1]:\n",
    "        k += 1\n",
    "\n",
    "print(k)"
   ]
  },
  {
   "cell_type": "markdown",
   "metadata": {},
   "source": [
    "Алиса составляет 6-⁠буквенные слова из букв М, А, Н, Г, У, С, Т. Каждая из букв может встречаться сколько угодно раз, причём первой буквой не может быть А, буква У должна встречаться не менее 1 раза. Также в записи должны быть ровно две буквы М.\n",
    "\n",
    "Сколько различных слов может составить Алиса?"
   ]
  },
  {
   "cell_type": "code",
   "execution_count": null,
   "metadata": {},
   "outputs": [
    {
     "name": "stdout",
     "output_type": "stream",
     "text": [
      "9155\n"
     ]
    }
   ],
   "source": [
    "from itertools import *\n",
    "a = list(product('мангуст', repeat=6))\n",
    "d = 0\n",
    "for n in a:\n",
    "    if n[0]!='а' and n.count('у')>=1 and n.count('м')==2:\n",
    "        d+=1\n",
    "print(d)\n",
    "\n",
    "    \n"
   ]
  },
  {
   "cell_type": "markdown",
   "metadata": {},
   "source": [
    "Определите количество восьмизначных 15-⁠ричных чисел, в записи которых ровно два нуля и не более четырёх цифр, для записи которых используются буквы."
   ]
  },
  {
   "cell_type": "code",
   "execution_count": 1,
   "metadata": {},
   "outputs": [
    {
     "name": "stdout",
     "output_type": "stream",
     "text": [
      "154248381\n"
     ]
    }
   ],
   "source": [
    "from itertools import *\n",
    "a = list(product('01A', repeat=8))\n",
    "d = 0\n",
    "for n in a:\n",
    "    if n[0]!='0' and n.count('0')==2 and n.count('A')<=4:\n",
    "        d+=9**n.count('1')*5**n.count('A')\n",
    "print(d)"
   ]
  },
  {
   "cell_type": "markdown",
   "metadata": {},
   "source": [
    "Сколько существует различных четырёхзначных чисел, записанных в семеричной системе счисления, в записи которых цифры следуют слева направо в строго убывающем порядке?"
   ]
  },
  {
   "cell_type": "code",
   "execution_count": 2,
   "metadata": {},
   "outputs": [
    {
     "name": "stdout",
     "output_type": "stream",
     "text": [
      "35\n"
     ]
    }
   ],
   "source": [
    "from itertools import *\n",
    "a = list(product('0123456', repeat=4))\n",
    "d = 0\n",
    "for n in a:\n",
    "    if n[0]>n[1]>n[2]>n[3]:\n",
    "        d+=1\n",
    "print(d)"
   ]
  },
  {
   "cell_type": "markdown",
   "metadata": {},
   "source": [
    "Найдите количество пятизначных восьмеричных чисел, в которых все цифры различны и никакие две четные или нечетные не стоят рядом."
   ]
  },
  {
   "cell_type": "code",
   "execution_count": null,
   "metadata": {},
   "outputs": [
    {
     "name": "stderr",
     "output_type": "stream",
     "text": [
      "Exception ignored in: <bound method IPythonKernel._clean_thread_parent_frames of <ipykernel.ipkernel.IPythonKernel object at 0x0000014389D45A50>>\n",
      "Traceback (most recent call last):\n",
      "  File \"C:\\Users\\vel-a\\AppData\\Roaming\\Python\\Python311\\site-packages\\ipykernel\\ipkernel.py\", line 775, in _clean_thread_parent_frames\n",
      "    def _clean_thread_parent_frames(\n",
      "\n",
      "KeyboardInterrupt: \n"
     ]
    }
   ],
   "source": []
  }
 ],
 "metadata": {
  "kernelspec": {
   "display_name": "Python 3",
   "language": "python",
   "name": "python3"
  },
  "language_info": {
   "codemirror_mode": {
    "name": "ipython",
    "version": 3
   },
   "file_extension": ".py",
   "mimetype": "text/x-python",
   "name": "python",
   "nbconvert_exporter": "python",
   "pygments_lexer": "ipython3",
   "version": "3.11.0"
  }
 },
 "nbformat": 4,
 "nbformat_minor": 2
}
